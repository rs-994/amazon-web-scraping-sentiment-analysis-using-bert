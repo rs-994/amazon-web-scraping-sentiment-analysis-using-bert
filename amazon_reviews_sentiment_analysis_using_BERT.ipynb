{
 "cells": [
  {
   "cell_type": "code",
   "execution_count": 1,
   "id": "14d17ef9",
   "metadata": {},
   "outputs": [],
   "source": [
    "#import libraries\n",
    "from urllib.request import urlopen\n",
    "from bs4 import BeautifulSoup\n",
    "import requests\n",
    "import pandas as pd"
   ]
  },
  {
   "cell_type": "code",
   "execution_count": 2,
   "id": "8f395eb1",
   "metadata": {},
   "outputs": [],
   "source": [
    "url= 'https://www.amazon.com/s?k=best+selling+books'"
   ]
  },
  {
   "cell_type": "code",
   "execution_count": 3,
   "id": "b1a40987",
   "metadata": {},
   "outputs": [],
   "source": [
    "header= {'User-Agent': 'Mozilla/5.0 (Windows NT 10.0; Win64; x64) AppleWebKit/537.36 (KHTML, like Gecko) Chrome/98.0.4758.102 Safari/537.36','referer':'https://www.amazon.com/s?k=best+selling+books&crid=S0CE1UIT5CJE&sprefix=best+selling+boo,aps,290&ref=nb_sb_noss_2'}"
   ]
  },
  {
   "cell_type": "code",
   "execution_count": 4,
   "id": "c17fa460",
   "metadata": {},
   "outputs": [
    {
     "data": {
      "text/plain": [
       "<Response [200]>"
      ]
     },
     "execution_count": 4,
     "metadata": {},
     "output_type": "execute_result"
    }
   ],
   "source": [
    "search_response=requests.get(url,headers=header)\n",
    "search_response"
   ]
  },
  {
   "cell_type": "code",
   "execution_count": 5,
   "id": "8e448126",
   "metadata": {},
   "outputs": [
    {
     "data": {
      "text/plain": [
       "<RequestsCookieJar[Cookie(version=0, name='i18n-prefs', value='USD', port=None, port_specified=False, domain='.amazon.com', domain_specified=True, domain_initial_dot=True, path='/', path_specified=True, secure=False, expires=1678652301, discard=False, comment=None, comment_url=None, rest={}, rfc2109=False), Cookie(version=0, name='session-id', value='143-5846511-1976430', port=None, port_specified=False, domain='.amazon.com', domain_specified=True, domain_initial_dot=True, path='/', path_specified=True, secure=True, expires=1678652301, discard=False, comment=None, comment_url=None, rest={}, rfc2109=False), Cookie(version=0, name='session-id-time', value='2082787201l', port=None, port_specified=False, domain='.amazon.com', domain_specified=True, domain_initial_dot=True, path='/', path_specified=True, secure=True, expires=1678652301, discard=False, comment=None, comment_url=None, rest={}, rfc2109=False)]>"
      ]
     },
     "execution_count": 5,
     "metadata": {},
     "output_type": "execute_result"
    }
   ],
   "source": [
    "search_response.cookies"
   ]
  },
  {
   "cell_type": "code",
   "execution_count": 6,
   "id": "23f36593",
   "metadata": {},
   "outputs": [],
   "source": [
    "cookie= search_response.cookies"
   ]
  },
  {
   "cell_type": "code",
   "execution_count": 7,
   "id": "dab913e4",
   "metadata": {},
   "outputs": [],
   "source": [
    "def getAmazonSearch(search_term):\n",
    "    print(url)\n",
    "    page=requests.get(url,headers=header)\n",
    "    if page.status_code==200:\n",
    "        return page\n",
    "    else:\n",
    "        return \"Error\""
   ]
  },
  {
   "cell_type": "code",
   "execution_count": 8,
   "id": "7dd40831",
   "metadata": {},
   "outputs": [],
   "source": [
    "def Searchasin(asin):\n",
    "    url=\"https://www.amazon.com/dp/\"+asin\n",
    "    #print(url)\n",
    "    page=requests.get(url,cookies=cookie,headers=header)\n",
    "    if page.status_code==200:\n",
    "        return page\n",
    "    else:\n",
    "        return \"Error\""
   ]
  },
  {
   "cell_type": "code",
   "execution_count": 9,
   "id": "b0a32d31",
   "metadata": {},
   "outputs": [],
   "source": [
    "def Searchreviews(review_link):\n",
    "    url=\"https://www.amazon.com\"+review_link\n",
    "    #print(url)\n",
    "    page=requests.get(url,cookies=cookie,headers=header)\n",
    "    if page.status_code==200:\n",
    "        return page\n",
    "    else:\n",
    "        return \"Error\""
   ]
  },
  {
   "cell_type": "code",
   "execution_count": 10,
   "id": "c974cdd4",
   "metadata": {},
   "outputs": [],
   "source": [
    "product_names=[]\n",
    "\n",
    "soup=BeautifulSoup(search_response.content)\n",
    "\n",
    "for i in soup.findAll(\"span\",{'class':'a-size-base-plus a-color-base a-text-normal'}): # the tag which is common for all the names of products\n",
    "    product_names.append(i.text) #adding the product names to the list\n"
   ]
  },
  {
   "cell_type": "code",
   "execution_count": 11,
   "id": "89aebd5e",
   "metadata": {},
   "outputs": [
    {
     "data": {
      "text/plain": [
       "['Things We Never Got Over',\n",
       " 'Hate Cats Tragedy',\n",
       " 'Tell Me the Truth',\n",
       " 'The Exchange (London Prep Book 1)',\n",
       " 'Run, Rose, Run: A Novel',\n",
       " 'The Lightning Rod: A Zig & Nola Novel (Escape Artist, 2)',\n",
       " 'The Seven Husbands of Evelyn Hugo: A Novel',\n",
       " 'The Maid: A Novel',\n",
       " 'Sanctuary: Beyond Haven Book 3',\n",
       " 'Shade War: A Druidverse Urban Fantasy Novel (The Shadow Changeling Series Book 3)',\n",
       " 'Love Believes (Bellingwood Book 36)',\n",
       " 'All Flamed Up (Sweet Delights Book 1)',\n",
       " 'Runaway (Empire High Book 5)',\n",
       " 'The Lupercalia: A Dangerous Monster Romance (Dangerous Monsters Book 1)',\n",
       " 'Summer Sweat (A Spruce Texas Romance Book 6)',\n",
       " \"Mrs. Pargeter's Pound of Flesh: A Mrs. Pargeter Mystery\",\n",
       " 'Foreign Deceit (David Wolf Mystery Thriller Series)',\n",
       " 'I Am Not Who You Think I Am: A Novel',\n",
       " 'Slow Brewing Tea',\n",
       " 'The Last Thing He Told Me: A Novel',\n",
       " 'Engineering Home: Book 11 of The Survivalist Series',\n",
       " 'Road to New Beginnings (Hope Springs Series Book 5)',\n",
       " 'The Complete Keto Diet Cookbook 2022: 500 Scrumptious And Wholesome Recipes With 21-Days Meal Plan For Busy People To Keep A Ketogenic Diet Lifestyle',\n",
       " 'City World (Undying Mercenaries Book 17)',\n",
       " 'Shadows Reel (A Joe Pickett Novel Book 22)',\n",
       " \"The Aquaria Incident (Death's Handmaiden Book 5)\",\n",
       " 'Somewhere To Bloom (Circle Of Friends Series Book 3)',\n",
       " 'LITTLE DID SHE KNOW: An intriguing, addictive mystery novel (Eva Rae Thomas Mystery Book 10)',\n",
       " \"My Bully's Father\",\n",
       " 'Queens & Legends: A Down South Love Story',\n",
       " 'Elden Ring Strategy Guide: Walkthroughs, Tips, Tricks and How To-s Guide Book!',\n",
       " 'The Great Book of Ireland: Interesting Stories, Irish History & Random Facts About Ireland (History & Fun Facts)',\n",
       " 'Guiding Emily: A Tale of Love, Loss, and Courage (Guiding Emily Series)',\n",
       " 'A Beautiful Place to Die: A Kiku - Yakuza Assassin - Action Thriller Novel (Kiku - Yakuza Assassin - Action Thriller Series Book 1)',\n",
       " 'Inheriting a Highland Bride: A Scottish Medieval Historical Romance (The Legend of the Campbell Clan Book 8)',\n",
       " 'The Seventh Princess: A Progression Reincarnation Fantasy (Adelheid Book 1)',\n",
       " 'The Hollow Chase: A Chase Fulton Novel (Chase Fulton Novels Book 17)',\n",
       " \"You've Lost a Lot of Blood\",\n",
       " \"Dating My Uncle's Friend\",\n",
       " 'The Ranch: Junta Rising (The Legacy Series Book 6)',\n",
       " \"Anne of Green Gables, Complete 8-Book Box Set: Anne of Green Gables; Anne of the Island; Anne of Avonlea; Anne of Windy Poplar; Anne's House of ... ... of Ingleside by L.M. Montgomery (1998-10-06)\",\n",
       " 'Necessary Respite (Artemis University Book 14)',\n",
       " 'The Bachelor Kings: Jaeger Book Three',\n",
       " 'Henry James: The Complete Novels (The Greatest Novelists of All Time – Book 10)',\n",
       " 'Sun Crossed (Zodiac Wolves Book 3)',\n",
       " 'The Backyard Homestead Book for a Self-Sufficient Lifestyle. For Beginners: A Step-by-Step Planning Guide for Starting Your Own Mini-Farm, Growing Your ... and Animals (Self-Sufficient Living 2)',\n",
       " '100 Books You Must Read Before You Die [volume 1]',\n",
       " 'Freaking Idiots Guide To Selling On eBay: How anyone can make $100 or more everyday selling on eBay (eBay Selling Made Easy)',\n",
       " 'F*ck It (Yama Yama Book 2)',\n",
       " 'Natural remedies healing book: Get to solve your fatalities and diseases easily at your comfort zone',\n",
       " 'Creation Mage 9 (War Mage Academy)',\n",
       " 'Double Take (Moon Valley Shifters Book 6)',\n",
       " 'Pray for Mercy: A totally gripping and unputdownable crime thriller (Detectives Kane and Alton Book 14)',\n",
       " 'The Southern Living Happy Holidays Cookbook with 300+Recipes to Treasure for Holiday Season',\n",
       " 'Thai Cuisine: 2 Books In 1: A Cookbook With 125 For Pad Thai Tom Yum Asian Soups And All Time Classic Dishes From Thailand',\n",
       " 'Verity',\n",
       " 'Deadly Broadcast: A World War II Mystery (Deadly Series Book 8)',\n",
       " 'Heat of The Night: A Warewolf Shifter Paranormal Romance Box Set, 3 Books in One!',\n",
       " 'Growing Season: Book 1 - Large Print',\n",
       " 'Red Mountain Rising: A Novel (Red Mountain Chronicles Book 2)']"
      ]
     },
     "execution_count": 11,
     "metadata": {},
     "output_type": "execute_result"
    }
   ],
   "source": [
    "product_names\n"
   ]
  },
  {
   "cell_type": "code",
   "execution_count": 12,
   "id": "330a20c0",
   "metadata": {},
   "outputs": [
    {
     "data": {
      "text/plain": [
       "'https://www.amazon.com/s?k=best+selling+books'"
      ]
     },
     "execution_count": 12,
     "metadata": {},
     "output_type": "execute_result"
    }
   ],
   "source": [
    "url"
   ]
  },
  {
   "cell_type": "code",
   "execution_count": 13,
   "id": "109888a4",
   "metadata": {},
   "outputs": [
    {
     "data": {
      "text/plain": [
       "60"
      ]
     },
     "execution_count": 13,
     "metadata": {},
     "output_type": "execute_result"
    }
   ],
   "source": [
    "len(product_names)"
   ]
  },
  {
   "cell_type": "code",
   "execution_count": 14,
   "id": "f413c0a2",
   "metadata": {},
   "outputs": [],
   "source": [
    "data_asin=[]\n",
    "#response=getAmazonSearch('nike+shoes+men')\n",
    "soup=BeautifulSoup(search_response.content)\n",
    "for i in soup.findAll(\"div\",{'class':\"sg-col-4-of-12 s-result-item s-asin sg-col-4-of-16 sg-col s-widget-spacing-small sg-col-4-of-20\"}):\n",
    "    data_asin.append(i['data-asin'])\n"
   ]
  },
  {
   "cell_type": "code",
   "execution_count": 15,
   "id": "3bad7d5b",
   "metadata": {},
   "outputs": [
    {
     "data": {
      "text/plain": [
       "48"
      ]
     },
     "execution_count": 15,
     "metadata": {},
     "output_type": "execute_result"
    }
   ],
   "source": [
    "len(data_asin)"
   ]
  },
  {
   "cell_type": "code",
   "execution_count": 16,
   "id": "b715a758",
   "metadata": {
    "scrolled": true
   },
   "outputs": [],
   "source": [
    "link=[]\n",
    "for i in range(len(data_asin)):\n",
    "    response=Searchasin(data_asin[i])\n",
    "    soup=BeautifulSoup(response.content)\n",
    "    for i in soup.findAll(\"a\",{'data-hook':\"see-all-reviews-link-foot\"}):\n",
    "        link.append(i['href'])"
   ]
  },
  {
   "cell_type": "code",
   "execution_count": 17,
   "id": "a9c83b93",
   "metadata": {},
   "outputs": [
    {
     "data": {
      "text/plain": [
       "53"
      ]
     },
     "execution_count": 17,
     "metadata": {},
     "output_type": "execute_result"
    }
   ],
   "source": [
    "len(link)"
   ]
  },
  {
   "cell_type": "code",
   "execution_count": 18,
   "id": "eab556a7",
   "metadata": {},
   "outputs": [
    {
     "data": {
      "text/plain": [
       "['/Run-Rose-Novel-James-Patterson/product-reviews/075955434X/ref=cm_cr_dp_d_show_all_btm?ie=UTF8&reviewerType=all_reviews',\n",
       " '/Lightning-Rod-Novel-Escape-Artist/product-reviews/0062892401/ref=cm_cr_dp_d_show_all_btm?ie=UTF8&reviewerType=all_reviews',\n",
       " '/Seven-Husbands-Evelyn-Hugo-Novel/product-reviews/1501161938/ref=cm_cr_dp_d_show_all_btm?ie=UTF8&reviewerType=all_reviews',\n",
       " '/Seven-Husbands-Evelyn-Hugo-Novel/product-reviews/1501161938/ref=cm_cr_dp_d_show_all_btm?ie=UTF8&reviewerType=all_reviews',\n",
       " '/Audible-The-Maid-A-Novel/product-reviews/B09FYHXPBH/ref=cm_cr_dp_d_show_all_btm?ie=UTF8&reviewerType=all_reviews',\n",
       " '/Audible-The-Maid-A-Novel/product-reviews/B09FYHXPBH/ref=cm_cr_dp_d_show_all_btm?ie=UTF8&reviewerType=all_reviews',\n",
       " '/Sanctuary-Beyond-Haven-Book-3-ebook/product-reviews/B09VBBS4LX/ref=cm_cr_dp_d_show_all_btm?ie=UTF8&reviewerType=all_reviews',\n",
       " '/Shade-War-Druidverse-Fantasy-Changeling-ebook/product-reviews/B09TWQG8GQ/ref=cm_cr_dp_d_show_all_btm?ie=UTF8&reviewerType=all_reviews',\n",
       " '/Love-Believes-Bellingwood-Book-36-ebook/product-reviews/B09V76B8YL/ref=cm_cr_dp_d_show_all_btm?ie=UTF8&reviewerType=all_reviews',\n",
       " '/Love-Believes-Bellingwood-Book-36-ebook/product-reviews/B09V76B8YL/ref=cm_cr_dp_d_show_all_btm?ie=UTF8&reviewerType=all_reviews',\n",
       " '/All-Flamed-Sweet-Delights-Book-ebook/product-reviews/B09V51SLN8/ref=cm_cr_dp_d_show_all_btm?ie=UTF8&reviewerType=all_reviews',\n",
       " '/EHR-Empire-High-Book-5-ebook/product-reviews/B094XQFL8P/ref=cm_cr_dp_d_show_all_btm?ie=UTF8&reviewerType=all_reviews',\n",
       " '/EHR-Empire-High-Book-5-ebook/product-reviews/B094XQFL8P/ref=cm_cr_dp_d_show_all_btm?ie=UTF8&reviewerType=all_reviews',\n",
       " '/Lupercalia-Dangerous-Monster-Romance-Monsters-ebook/product-reviews/B09V5QDJMJ/ref=cm_cr_dp_d_show_all_btm?ie=UTF8&reviewerType=all_reviews',\n",
       " '/Summer-Sweat-Spruce-Texas-Romance-ebook/product-reviews/B09V7JT7PM/ref=cm_cr_dp_d_show_all_btm?ie=UTF8&reviewerType=all_reviews',\n",
       " '/Mrs-Pargeters-Pound-Flesh-Pargeter/product-reviews/0684195658/ref=cm_cr_dp_d_show_all_btm?ie=UTF8&reviewerType=all_reviews',\n",
       " '/Mrs-Pargeters-Pound-Flesh-Pargeter/product-reviews/0684195658/ref=cm_cr_dp_d_show_all_btm?ie=UTF8&reviewerType=all_reviews',\n",
       " '/Last-Thing-He-Told-Me/product-reviews/1501171348/ref=cm_cr_dp_d_show_all_btm?ie=UTF8&reviewerType=all_reviews',\n",
       " '/Last-Thing-He-Told-Me/product-reviews/1501171348/ref=cm_cr_dp_d_show_all_btm?ie=UTF8&reviewerType=all_reviews',\n",
       " '/Engineering-Home-Book-11-Survivalist-ebook/product-reviews/B09V1P5WJQ/ref=cm_cr_dp_d_show_all_btm?ie=UTF8&reviewerType=all_reviews',\n",
       " '/Engineering-Home-Book-11-Survivalist-ebook/product-reviews/B09V1P5WJQ/ref=cm_cr_dp_d_show_all_btm?ie=UTF8&reviewerType=all_reviews',\n",
       " '/Road-Beginnings-Hope-Springs-Book-ebook/product-reviews/B09PB2JZQT/ref=cm_cr_dp_d_show_all_btm?ie=UTF8&reviewerType=all_reviews',\n",
       " '/City-World-Undying-Mercenaries-Book-ebook/product-reviews/B09S5LH7MK/ref=cm_cr_dp_d_show_all_btm?ie=UTF8&reviewerType=all_reviews',\n",
       " '/City-World-Undying-Mercenaries-Book-ebook/product-reviews/B09S5LH7MK/ref=cm_cr_dp_d_show_all_btm?ie=UTF8&reviewerType=all_reviews',\n",
       " '/Shadows-Reel-Pickett-Novel-Book-ebook/product-reviews/B097B3S6TX/ref=cm_cr_dp_d_show_all_btm?ie=UTF8&reviewerType=all_reviews',\n",
       " '/Shadows-Reel-Pickett-Novel-Book-ebook/product-reviews/B097B3S6TX/ref=cm_cr_dp_d_show_all_btm?ie=UTF8&reviewerType=all_reviews',\n",
       " '/Aquaria-Incident-Deaths-Handmaiden-Book-ebook/product-reviews/B09VCF5M28/ref=cm_cr_dp_d_show_all_btm?ie=UTF8&reviewerType=all_reviews',\n",
       " '/Somewhere-Bloom-Circle-Friends-Book-ebook/product-reviews/B09V9DKFXQ/ref=cm_cr_dp_d_show_all_btm?ie=UTF8&reviewerType=all_reviews',\n",
       " '/LITTLE-DID-SHE-KNOW-intriguing-ebook/product-reviews/B09GSZ9PVM/ref=cm_cr_dp_d_show_all_btm?ie=UTF8&reviewerType=all_reviews',\n",
       " '/My-Bullys-Father-Jordan-Silver-ebook/product-reviews/B09VC7J6MQ/ref=cm_cr_dp_d_show_all_btm?ie=UTF8&reviewerType=all_reviews',\n",
       " '/Queens-Legends-Down-South-Story-ebook/product-reviews/B09VC6WLG2/ref=cm_cr_dp_d_show_all_btm?ie=UTF8&reviewerType=all_reviews',\n",
       " '/Inheriting-Highland-Bride-Scottish-Historical-ebook/product-reviews/B09VBN5QCF/ref=cm_cr_dp_d_show_all_btm?ie=UTF8&reviewerType=all_reviews',\n",
       " '/Seventh-Princess-Reincarnation-Fantasy-Adelheid-ebook/product-reviews/B09VB2FB2G/ref=cm_cr_dp_d_show_all_btm?ie=UTF8&reviewerType=all_reviews',\n",
       " '/Hollow-Chase-Fulton-Novel-Novels-ebook/product-reviews/B09NYN6MQS/ref=cm_cr_dp_d_show_all_btm?ie=UTF8&reviewerType=all_reviews',\n",
       " '/Youve-Lost-Blood-Eric-LaRocca-ebook/product-reviews/B09VC1ZLPG/ref=cm_cr_dp_d_show_all_btm?ie=UTF8&reviewerType=all_reviews',\n",
       " '/Dating-Uncles-Friend-Marian-Tee-ebook/product-reviews/B09V892HXW/ref=cm_cr_dp_d_show_all_btm?ie=UTF8&reviewerType=all_reviews',\n",
       " '/Ranch-Junta-Rising-Legacy-Book-ebook/product-reviews/B09TY84KRW/ref=cm_cr_dp_d_show_all_btm?ie=UTF8&reviewerType=all_reviews',\n",
       " '/Anne-Green-Gables-Complete-8-Book/product-reviews/0553609416/ref=cm_cr_dp_d_show_all_btm?ie=UTF8&reviewerType=all_reviews',\n",
       " '/Anne-Green-Gables-Complete-8-Book/product-reviews/0553609416/ref=cm_cr_dp_d_show_all_btm?ie=UTF8&reviewerType=all_reviews',\n",
       " '/Henry-James-Complete-Greatest-Novelists-ebook/product-reviews/B09V5QKQ37/ref=cm_cr_dp_d_show_all_btm?ie=UTF8&reviewerType=all_reviews',\n",
       " '/Henry-James-Complete-Greatest-Novelists-ebook/product-reviews/B09V5QKQ37/ref=cm_cr_dp_d_show_all_btm?ie=UTF8&reviewerType=all_reviews',\n",
       " '/Sun-Crossed-Zodiac-Wolves-Book-ebook/product-reviews/B09KMKKS96/ref=cm_cr_dp_d_show_all_btm?ie=UTF8&reviewerType=all_reviews',\n",
       " '/100-Eternal-Masterpieces-Literature-1-ebook/product-reviews/B076X98Q6X/ref=cm_cr_dp_d_show_all_btm?ie=UTF8&reviewerType=all_reviews',\n",
       " '/100-Eternal-Masterpieces-Literature-1-ebook/product-reviews/B076X98Q6X/ref=cm_cr_dp_d_show_all_btm?ie=UTF8&reviewerType=all_reviews',\n",
       " '/Freaking-Idiots-Guide-Selling-eBay/product-reviews/1482647729/ref=cm_cr_dp_d_show_all_btm?ie=UTF8&reviewerType=all_reviews',\n",
       " '/Freaking-Idiots-Guide-Selling-eBay/product-reviews/1482647729/ref=cm_cr_dp_d_show_all_btm?ie=UTF8&reviewerType=all_reviews',\n",
       " '/Yama-Book-S-M-Shade-ebook/product-reviews/B09JYTMZVR/ref=cm_cr_dp_d_show_all_btm?ie=UTF8&reviewerType=all_reviews',\n",
       " '/Yama-Book-S-M-Shade-ebook/product-reviews/B09JYTMZVR/ref=cm_cr_dp_d_show_all_btm?ie=UTF8&reviewerType=all_reviews',\n",
       " '/Pray-Mercy-gripping-unputdownable-Detectives-ebook/product-reviews/B09MQX4XGS/ref=cm_cr_dp_d_show_all_btm?ie=UTF8&reviewerType=all_reviews',\n",
       " '/Pray-Mercy-gripping-unputdownable-Detectives-ebook/product-reviews/B09MQX4XGS/ref=cm_cr_dp_d_show_all_btm?ie=UTF8&reviewerType=all_reviews',\n",
       " '/Verity-Colleen-Hoover/product-reviews/1538724731/ref=cm_cr_dp_d_show_all_btm?ie=UTF8&reviewerType=all_reviews',\n",
       " '/Verity-Colleen-Hoover/product-reviews/1538724731/ref=cm_cr_dp_d_show_all_btm?ie=UTF8&reviewerType=all_reviews',\n",
       " '/Deadly-Broadcast-World-Mystery-Book-ebook/product-reviews/B09PWNXQW7/ref=cm_cr_dp_d_show_all_btm?ie=UTF8&reviewerType=all_reviews']"
      ]
     },
     "execution_count": 18,
     "metadata": {},
     "output_type": "execute_result"
    }
   ],
   "source": [
    "link"
   ]
  },
  {
   "cell_type": "code",
   "execution_count": 22,
   "id": "5ca3eac5",
   "metadata": {},
   "outputs": [],
   "source": [
    "# reviews=[]\n",
    "# for j in range(len(link)):\n",
    "#     for k in range(1):\n",
    "#         response=Searchreviews(link[j]+'&pageNumber='+str(k))\n",
    "#         soup=BeautifulSoup(response.content)\n",
    "#         for i in soup.findAll(\"span\",{'data-hook':\"review-body\"}):\n",
    "#             reviews.append(i.text)\n",
    "\n",
    "reviewlist=[]\n",
    "for j in range(len(link)):\n",
    "    for k in range(100):\n",
    "        response=Searchreviews(link[j]+'&pageNumber='+str(k))\n",
    "        #print (response)\n",
    "        soup=BeautifulSoup(response.content)\n",
    "        reviews = soup.findAll('span', {'data-hook':'review-body'})\n",
    "        #print(reviews)\n",
    "        try:\n",
    "            for item in reviews:\n",
    "#                 print(item)\n",
    "#                 print('bookName: '+soup.find(\"a\",{'data-hook':\"product-link\"}).text.strip());\n",
    "#                 print('Rating is: '+ soup.find(\"span\", {'data-hook':'rating-out-of-text'}).text.replace(' out of 5 stars', '').strip());\n",
    "#                 print('Customerreview: '+soup.find('span',{'data-hook':'review-body'}).text);\n",
    "                review = {\n",
    "                    'bookname': soup.find(\"a\",{'data-hook':\"product-link\"}).text.strip(),\n",
    "                    'rating':  soup.find(\"span\", {'class':'a-size-medium a-color-base'}).text.replace('out of 5 stars', '').strip(),\n",
    "                    'customereview': soup.find('span',{'data-hook':'review-body'}).text,\n",
    "                        }\n",
    "                #print('review: '+review);\n",
    "                if review not in reviewlist:\n",
    "                    reviewlist.append(review)\n",
    "        except Exception as e: print(e)\n",
    "            \n",
    "# for item in reviews:\n",
    "#             review = {\n",
    "#             'product': soup.title.text.replace('Amazon.com: Customer reviews:', '').strip(),\n",
    "#             'title': item.find('a', {'data-hook': 'review-title'}).text.strip(),\n",
    "#             'rating':  float(item.find('i', {'data-hook': 'review-star-rating'}).text.replace('out of 5 stars', '').strip()),\n",
    "#             'body': item.find('span', {'data-hook': 'review-body'}).text.strip(),\n",
    "#             }\n",
    "#             reviewlist.append(review)"
   ]
  },
  {
   "cell_type": "code",
   "execution_count": 23,
   "id": "c107246e",
   "metadata": {},
   "outputs": [
    {
     "data": {
      "text/html": [
       "<div>\n",
       "<style scoped>\n",
       "    .dataframe tbody tr th:only-of-type {\n",
       "        vertical-align: middle;\n",
       "    }\n",
       "\n",
       "    .dataframe tbody tr th {\n",
       "        vertical-align: top;\n",
       "    }\n",
       "\n",
       "    .dataframe thead th {\n",
       "        text-align: right;\n",
       "    }\n",
       "</style>\n",
       "<table border=\"1\" class=\"dataframe\">\n",
       "  <thead>\n",
       "    <tr style=\"text-align: right;\">\n",
       "      <th></th>\n",
       "      <th>bookname</th>\n",
       "      <th>rating</th>\n",
       "      <th>customereview</th>\n",
       "    </tr>\n",
       "  </thead>\n",
       "  <tbody>\n",
       "    <tr>\n",
       "      <th>0</th>\n",
       "      <td>Run, Rose, Run: A Novel</td>\n",
       "      <td>4.6 out of 5</td>\n",
       "      <td>\\n\\n  I have never read anything by James Patt...</td>\n",
       "    </tr>\n",
       "    <tr>\n",
       "      <th>1</th>\n",
       "      <td>Run, Rose, Run: A Novel</td>\n",
       "      <td>4.6 out of 5</td>\n",
       "      <td>\\n\\n  I kept seeing Dolly Parton and James Pat...</td>\n",
       "    </tr>\n",
       "    <tr>\n",
       "      <th>2</th>\n",
       "      <td>Run, Rose, Run: A Novel</td>\n",
       "      <td>4.6 out of 5</td>\n",
       "      <td>\\n\\n  With Dolly's knowledge of the country  m...</td>\n",
       "    </tr>\n",
       "    <tr>\n",
       "      <th>3</th>\n",
       "      <td>Run, Rose, Run: A Novel</td>\n",
       "      <td>4.6 out of 5</td>\n",
       "      <td>\\n\\n  Not enough Patterson and too much romanc...</td>\n",
       "    </tr>\n",
       "    <tr>\n",
       "      <th>4</th>\n",
       "      <td>Run, Rose, Run: A Novel</td>\n",
       "      <td>4.6 out of 5</td>\n",
       "      <td>\\n\\n  Great insight into the music business. G...</td>\n",
       "    </tr>\n",
       "    <tr>\n",
       "      <th>5</th>\n",
       "      <td>Run, Rose, Run: A Novel</td>\n",
       "      <td>4.6 out of 5</td>\n",
       "      <td>\\n\\n  Wanted a book I could keep has a collect...</td>\n",
       "    </tr>\n",
       "    <tr>\n",
       "      <th>6</th>\n",
       "      <td>Run, Rose, Run: A Novel</td>\n",
       "      <td>4.6 out of 5</td>\n",
       "      <td>\\n\\n  As someone whose car radio is always tun...</td>\n",
       "    </tr>\n",
       "    <tr>\n",
       "      <th>7</th>\n",
       "      <td>Run, Rose, Run: A Novel</td>\n",
       "      <td>4.6 out of 5</td>\n",
       "      <td>\\n\\n  What a joke...James tells his 20 workers...</td>\n",
       "    </tr>\n",
       "    <tr>\n",
       "      <th>8</th>\n",
       "      <td>The Lightning Rod: A Zig &amp; Nola Novel (Escape ...</td>\n",
       "      <td>4.8 out of 5</td>\n",
       "      <td>\\n\\n  Zig and Nola cross paths again, even tho...</td>\n",
       "    </tr>\n",
       "    <tr>\n",
       "      <th>9</th>\n",
       "      <td>The Lightning Rod: A Zig &amp; Nola Novel (Escape ...</td>\n",
       "      <td>4.8 out of 5</td>\n",
       "      <td>\\n\\n  It was such a joy to realize the charact...</td>\n",
       "    </tr>\n",
       "  </tbody>\n",
       "</table>\n",
       "</div>"
      ],
      "text/plain": [
       "                                            bookname        rating  \\\n",
       "0                            Run, Rose, Run: A Novel  4.6 out of 5   \n",
       "1                            Run, Rose, Run: A Novel  4.6 out of 5   \n",
       "2                            Run, Rose, Run: A Novel  4.6 out of 5   \n",
       "3                            Run, Rose, Run: A Novel  4.6 out of 5   \n",
       "4                            Run, Rose, Run: A Novel  4.6 out of 5   \n",
       "5                            Run, Rose, Run: A Novel  4.6 out of 5   \n",
       "6                            Run, Rose, Run: A Novel  4.6 out of 5   \n",
       "7                            Run, Rose, Run: A Novel  4.6 out of 5   \n",
       "8  The Lightning Rod: A Zig & Nola Novel (Escape ...  4.8 out of 5   \n",
       "9  The Lightning Rod: A Zig & Nola Novel (Escape ...  4.8 out of 5   \n",
       "\n",
       "                                       customereview  \n",
       "0  \\n\\n  I have never read anything by James Patt...  \n",
       "1  \\n\\n  I kept seeing Dolly Parton and James Pat...  \n",
       "2  \\n\\n  With Dolly's knowledge of the country  m...  \n",
       "3  \\n\\n  Not enough Patterson and too much romanc...  \n",
       "4  \\n\\n  Great insight into the music business. G...  \n",
       "5  \\n\\n  Wanted a book I could keep has a collect...  \n",
       "6  \\n\\n  As someone whose car radio is always tun...  \n",
       "7  \\n\\n  What a joke...James tells his 20 workers...  \n",
       "8  \\n\\n  Zig and Nola cross paths again, even tho...  \n",
       "9  \\n\\n  It was such a joy to realize the charact...  "
      ]
     },
     "execution_count": 23,
     "metadata": {},
     "output_type": "execute_result"
    }
   ],
   "source": [
    "df = pd.DataFrame(reviewlist)\n",
    "df.head(10)\n"
   ]
  },
  {
   "cell_type": "code",
   "execution_count": 24,
   "id": "180983bc",
   "metadata": {},
   "outputs": [],
   "source": [
    "df.to_excel('bookreviews.xlsx', index=False)\n",
    "\n"
   ]
  },
  {
   "cell_type": "code",
   "execution_count": 25,
   "id": "795f976e",
   "metadata": {},
   "outputs": [],
   "source": [
    "from transformers import AutoTokenizer, AutoModelForSequenceClassification\n",
    "import torch\n",
    "import re"
   ]
  },
  {
   "cell_type": "code",
   "execution_count": 26,
   "id": "269d6aa3",
   "metadata": {},
   "outputs": [
    {
     "data": {
      "application/vnd.jupyter.widget-view+json": {
       "model_id": "f4f48ea376e940c7907e0f275801f67d",
       "version_major": 2,
       "version_minor": 0
      },
      "text/plain": [
       "Downloading:   0%|          | 0.00/39.0 [00:00<?, ?B/s]"
      ]
     },
     "metadata": {},
     "output_type": "display_data"
    },
    {
     "data": {
      "application/vnd.jupyter.widget-view+json": {
       "model_id": "93234509db4d458c9a1478f28d7cc92c",
       "version_major": 2,
       "version_minor": 0
      },
      "text/plain": [
       "Downloading:   0%|          | 0.00/953 [00:00<?, ?B/s]"
      ]
     },
     "metadata": {},
     "output_type": "display_data"
    },
    {
     "data": {
      "application/vnd.jupyter.widget-view+json": {
       "model_id": "44932a1ac5cf46c09c94759fcd23f422",
       "version_major": 2,
       "version_minor": 0
      },
      "text/plain": [
       "Downloading:   0%|          | 0.00/851k [00:00<?, ?B/s]"
      ]
     },
     "metadata": {},
     "output_type": "display_data"
    },
    {
     "data": {
      "application/vnd.jupyter.widget-view+json": {
       "model_id": "7af91135b61c4744b2732c2d0aa3d8d9",
       "version_major": 2,
       "version_minor": 0
      },
      "text/plain": [
       "Downloading:   0%|          | 0.00/112 [00:00<?, ?B/s]"
      ]
     },
     "metadata": {},
     "output_type": "display_data"
    },
    {
     "data": {
      "application/vnd.jupyter.widget-view+json": {
       "model_id": "95727bc77150493a9815257599d9f66b",
       "version_major": 2,
       "version_minor": 0
      },
      "text/plain": [
       "Downloading:   0%|          | 0.00/638M [00:00<?, ?B/s]"
      ]
     },
     "metadata": {},
     "output_type": "display_data"
    }
   ],
   "source": [
    "tokenizer = AutoTokenizer.from_pretrained('nlptown/bert-base-multilingual-uncased-sentiment')\n",
    "model = AutoModelForSequenceClassification.from_pretrained('nlptown/bert-base-multilingual-uncased-sentiment')"
   ]
  },
  {
   "cell_type": "code",
   "execution_count": 27,
   "id": "fd3679c4",
   "metadata": {},
   "outputs": [],
   "source": [
    "def sentiment_score(review):\n",
    "    tokens = tokenizer.encode(review, return_tensors='pt')\n",
    "    result = model(tokens)\n",
    "    return int(torch.argmax(result.logits))+1"
   ]
  },
  {
   "cell_type": "code",
   "execution_count": 29,
   "id": "3969a809",
   "metadata": {},
   "outputs": [],
   "source": [
    "df['sentiment'] = df['customereview'].apply(lambda x: sentiment_score(x[:46]))"
   ]
  },
  {
   "cell_type": "code",
   "execution_count": 30,
   "id": "8cd779a1",
   "metadata": {},
   "outputs": [
    {
     "data": {
      "text/html": [
       "<div>\n",
       "<style scoped>\n",
       "    .dataframe tbody tr th:only-of-type {\n",
       "        vertical-align: middle;\n",
       "    }\n",
       "\n",
       "    .dataframe tbody tr th {\n",
       "        vertical-align: top;\n",
       "    }\n",
       "\n",
       "    .dataframe thead th {\n",
       "        text-align: right;\n",
       "    }\n",
       "</style>\n",
       "<table border=\"1\" class=\"dataframe\">\n",
       "  <thead>\n",
       "    <tr style=\"text-align: right;\">\n",
       "      <th></th>\n",
       "      <th>bookname</th>\n",
       "      <th>rating</th>\n",
       "      <th>customereview</th>\n",
       "      <th>sentiment</th>\n",
       "    </tr>\n",
       "  </thead>\n",
       "  <tbody>\n",
       "    <tr>\n",
       "      <th>0</th>\n",
       "      <td>Run, Rose, Run: A Novel</td>\n",
       "      <td>4.6 out of 5</td>\n",
       "      <td>\\n\\n  I have never read anything by James Patt...</td>\n",
       "      <td>1</td>\n",
       "    </tr>\n",
       "    <tr>\n",
       "      <th>1</th>\n",
       "      <td>Run, Rose, Run: A Novel</td>\n",
       "      <td>4.6 out of 5</td>\n",
       "      <td>\\n\\n  I kept seeing Dolly Parton and James Pat...</td>\n",
       "      <td>4</td>\n",
       "    </tr>\n",
       "    <tr>\n",
       "      <th>2</th>\n",
       "      <td>Run, Rose, Run: A Novel</td>\n",
       "      <td>4.6 out of 5</td>\n",
       "      <td>\\n\\n  With Dolly's knowledge of the country  m...</td>\n",
       "      <td>4</td>\n",
       "    </tr>\n",
       "    <tr>\n",
       "      <th>3</th>\n",
       "      <td>Run, Rose, Run: A Novel</td>\n",
       "      <td>4.6 out of 5</td>\n",
       "      <td>\\n\\n  Not enough Patterson and too much romanc...</td>\n",
       "      <td>2</td>\n",
       "    </tr>\n",
       "    <tr>\n",
       "      <th>4</th>\n",
       "      <td>Run, Rose, Run: A Novel</td>\n",
       "      <td>4.6 out of 5</td>\n",
       "      <td>\\n\\n  Great insight into the music business. G...</td>\n",
       "      <td>5</td>\n",
       "    </tr>\n",
       "    <tr>\n",
       "      <th>5</th>\n",
       "      <td>Run, Rose, Run: A Novel</td>\n",
       "      <td>4.6 out of 5</td>\n",
       "      <td>\\n\\n  Wanted a book I could keep has a collect...</td>\n",
       "      <td>3</td>\n",
       "    </tr>\n",
       "    <tr>\n",
       "      <th>6</th>\n",
       "      <td>Run, Rose, Run: A Novel</td>\n",
       "      <td>4.6 out of 5</td>\n",
       "      <td>\\n\\n  As someone whose car radio is always tun...</td>\n",
       "      <td>5</td>\n",
       "    </tr>\n",
       "    <tr>\n",
       "      <th>7</th>\n",
       "      <td>Run, Rose, Run: A Novel</td>\n",
       "      <td>4.6 out of 5</td>\n",
       "      <td>\\n\\n  What a joke...James tells his 20 workers...</td>\n",
       "      <td>1</td>\n",
       "    </tr>\n",
       "    <tr>\n",
       "      <th>8</th>\n",
       "      <td>The Lightning Rod: A Zig &amp; Nola Novel (Escape ...</td>\n",
       "      <td>4.8 out of 5</td>\n",
       "      <td>\\n\\n  Zig and Nola cross paths again, even tho...</td>\n",
       "      <td>5</td>\n",
       "    </tr>\n",
       "    <tr>\n",
       "      <th>9</th>\n",
       "      <td>The Lightning Rod: A Zig &amp; Nola Novel (Escape ...</td>\n",
       "      <td>4.8 out of 5</td>\n",
       "      <td>\\n\\n  It was such a joy to realize the charact...</td>\n",
       "      <td>5</td>\n",
       "    </tr>\n",
       "    <tr>\n",
       "      <th>10</th>\n",
       "      <td>The Lightning Rod: A Zig &amp; Nola Novel (Escape ...</td>\n",
       "      <td>4.8 out of 5</td>\n",
       "      <td>\\n\\n  Brad Meltzer does it again!  Zig and Nol...</td>\n",
       "      <td>5</td>\n",
       "    </tr>\n",
       "    <tr>\n",
       "      <th>11</th>\n",
       "      <td>The Lightning Rod: A Zig &amp; Nola Novel (Escape ...</td>\n",
       "      <td>4.8 out of 5</td>\n",
       "      <td>\\n\\n  A much anticipated book, and as always B...</td>\n",
       "      <td>4</td>\n",
       "    </tr>\n",
       "    <tr>\n",
       "      <th>12</th>\n",
       "      <td>The Lightning Rod: A Zig &amp; Nola Novel (Escape ...</td>\n",
       "      <td>4.8 out of 5</td>\n",
       "      <td>\\n\\n  Definitely lives up to the Meltzer’s rep...</td>\n",
       "      <td>5</td>\n",
       "    </tr>\n",
       "    <tr>\n",
       "      <th>13</th>\n",
       "      <td>The Lightning Rod: A Zig &amp; Nola Novel (Escape ...</td>\n",
       "      <td>4.8 out of 5</td>\n",
       "      <td>\\n\\n  1 Like a kid at Christmas was I when I g...</td>\n",
       "      <td>5</td>\n",
       "    </tr>\n",
       "    <tr>\n",
       "      <th>14</th>\n",
       "      <td>The Lightning Rod: A Zig &amp; Nola Novel (Escape ...</td>\n",
       "      <td>4.8 out of 5</td>\n",
       "      <td>\\n\\n  Gripping!\\n\\n</td>\n",
       "      <td>5</td>\n",
       "    </tr>\n",
       "    <tr>\n",
       "      <th>15</th>\n",
       "      <td>The Seven Husbands of Evelyn Hugo: A Novel</td>\n",
       "      <td>4.6 out of 5</td>\n",
       "      <td>\\n\\n  Do NOT buy! This is Propaganda at Best! ...</td>\n",
       "      <td>1</td>\n",
       "    </tr>\n",
       "    <tr>\n",
       "      <th>16</th>\n",
       "      <td>The Seven Husbands of Evelyn Hugo: A Novel</td>\n",
       "      <td>4.6 out of 5</td>\n",
       "      <td>\\n\\n  I had high hopes for this book. It was h...</td>\n",
       "      <td>1</td>\n",
       "    </tr>\n",
       "    <tr>\n",
       "      <th>17</th>\n",
       "      <td>The Seven Husbands of Evelyn Hugo: A Novel</td>\n",
       "      <td>4.6 out of 5</td>\n",
       "      <td>\\n\\n  Personally, I wouldn't have chosen this ...</td>\n",
       "      <td>2</td>\n",
       "    </tr>\n",
       "    <tr>\n",
       "      <th>18</th>\n",
       "      <td>The Seven Husbands of Evelyn Hugo: A Novel</td>\n",
       "      <td>4.6 out of 5</td>\n",
       "      <td>\\n\\n  I bought this book blind. Meaning I didn...</td>\n",
       "      <td>1</td>\n",
       "    </tr>\n",
       "    <tr>\n",
       "      <th>19</th>\n",
       "      <td>The Seven Husbands of Evelyn Hugo: A Novel</td>\n",
       "      <td>4.6 out of 5</td>\n",
       "      <td>\\n\\n  *Please be advised this review is a SPOI...</td>\n",
       "      <td>1</td>\n",
       "    </tr>\n",
       "  </tbody>\n",
       "</table>\n",
       "</div>"
      ],
      "text/plain": [
       "                                             bookname        rating  \\\n",
       "0                             Run, Rose, Run: A Novel  4.6 out of 5   \n",
       "1                             Run, Rose, Run: A Novel  4.6 out of 5   \n",
       "2                             Run, Rose, Run: A Novel  4.6 out of 5   \n",
       "3                             Run, Rose, Run: A Novel  4.6 out of 5   \n",
       "4                             Run, Rose, Run: A Novel  4.6 out of 5   \n",
       "5                             Run, Rose, Run: A Novel  4.6 out of 5   \n",
       "6                             Run, Rose, Run: A Novel  4.6 out of 5   \n",
       "7                             Run, Rose, Run: A Novel  4.6 out of 5   \n",
       "8   The Lightning Rod: A Zig & Nola Novel (Escape ...  4.8 out of 5   \n",
       "9   The Lightning Rod: A Zig & Nola Novel (Escape ...  4.8 out of 5   \n",
       "10  The Lightning Rod: A Zig & Nola Novel (Escape ...  4.8 out of 5   \n",
       "11  The Lightning Rod: A Zig & Nola Novel (Escape ...  4.8 out of 5   \n",
       "12  The Lightning Rod: A Zig & Nola Novel (Escape ...  4.8 out of 5   \n",
       "13  The Lightning Rod: A Zig & Nola Novel (Escape ...  4.8 out of 5   \n",
       "14  The Lightning Rod: A Zig & Nola Novel (Escape ...  4.8 out of 5   \n",
       "15         The Seven Husbands of Evelyn Hugo: A Novel  4.6 out of 5   \n",
       "16         The Seven Husbands of Evelyn Hugo: A Novel  4.6 out of 5   \n",
       "17         The Seven Husbands of Evelyn Hugo: A Novel  4.6 out of 5   \n",
       "18         The Seven Husbands of Evelyn Hugo: A Novel  4.6 out of 5   \n",
       "19         The Seven Husbands of Evelyn Hugo: A Novel  4.6 out of 5   \n",
       "\n",
       "                                        customereview  sentiment  \n",
       "0   \\n\\n  I have never read anything by James Patt...          1  \n",
       "1   \\n\\n  I kept seeing Dolly Parton and James Pat...          4  \n",
       "2   \\n\\n  With Dolly's knowledge of the country  m...          4  \n",
       "3   \\n\\n  Not enough Patterson and too much romanc...          2  \n",
       "4   \\n\\n  Great insight into the music business. G...          5  \n",
       "5   \\n\\n  Wanted a book I could keep has a collect...          3  \n",
       "6   \\n\\n  As someone whose car radio is always tun...          5  \n",
       "7   \\n\\n  What a joke...James tells his 20 workers...          1  \n",
       "8   \\n\\n  Zig and Nola cross paths again, even tho...          5  \n",
       "9   \\n\\n  It was such a joy to realize the charact...          5  \n",
       "10  \\n\\n  Brad Meltzer does it again!  Zig and Nol...          5  \n",
       "11  \\n\\n  A much anticipated book, and as always B...          4  \n",
       "12  \\n\\n  Definitely lives up to the Meltzer’s rep...          5  \n",
       "13  \\n\\n  1 Like a kid at Christmas was I when I g...          5  \n",
       "14                                \\n\\n  Gripping!\\n\\n          5  \n",
       "15  \\n\\n  Do NOT buy! This is Propaganda at Best! ...          1  \n",
       "16  \\n\\n  I had high hopes for this book. It was h...          1  \n",
       "17  \\n\\n  Personally, I wouldn't have chosen this ...          2  \n",
       "18  \\n\\n  I bought this book blind. Meaning I didn...          1  \n",
       "19  \\n\\n  *Please be advised this review is a SPOI...          1  "
      ]
     },
     "execution_count": 30,
     "metadata": {},
     "output_type": "execute_result"
    }
   ],
   "source": [
    "df.head(20)"
   ]
  },
  {
   "cell_type": "code",
   "execution_count": null,
   "id": "bfc34041",
   "metadata": {},
   "outputs": [],
   "source": []
  }
 ],
 "metadata": {
  "kernelspec": {
   "display_name": "Python 3",
   "language": "python",
   "name": "python3"
  },
  "language_info": {
   "codemirror_mode": {
    "name": "ipython",
    "version": 3
   },
   "file_extension": ".py",
   "mimetype": "text/x-python",
   "name": "python",
   "nbconvert_exporter": "python",
   "pygments_lexer": "ipython3",
   "version": "3.8.8"
  }
 },
 "nbformat": 4,
 "nbformat_minor": 5
}
